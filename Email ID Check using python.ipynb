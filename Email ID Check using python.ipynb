{
 "cells": [
  {
   "cell_type": "markdown",
   "metadata": {},
   "source": [
    "username@website.extension.\n",
    "Here, there are three conditions to keep in mind:\n",
    "1. The username can only contain characters 0-9, a-z and A-Z. It can have 8 to 20 letters only\n",
    "2. The website name can contain only characters a-z\n",
    "3. The extension can have 2 or 3 alphabets(a-z)."
   ]
  },
  {
   "cell_type": "code",
   "execution_count": null,
   "metadata": {},
   "outputs": [],
   "source": [
    "import re\n",
    "\n",
    "def checkmail(email):\n",
    "\n",
    "    #the function should return the strings \"invalid\" or \"valid\" based on the email ID entered\n",
    "    try:\n",
    "        username = email.split('@')[0]\n",
    "        website = email.split('@')[1].split('.')[0]\n",
    "        extenstion = email.split('@')[1].split('.')[1]\n",
    "    \n",
    "        result = 'valid'\n",
    "\n",
    "        regusername = re.compile(r'^(?=.{8,20}$)[a-zA-Z0-9]*$') \n",
    "        if not regusername.findall(username):\n",
    "            result = 'invalid'\n",
    "\n",
    "        regwebsite = re.compile(r'^[a-z]*$') \n",
    "        if not regwebsite.findall(website):\n",
    "            result = 'invalid'\n",
    "\n",
    "        regextenstion = re.compile(r'^(?=.{2,3}$)[a-z]*$')\n",
    "        if not regextenstion.findall(extenstion):\n",
    "            result = 'invalid'\n",
    "        \n",
    "    except:\n",
    "        result = 'invalid'\n",
    "    return result\n",
    "\n",
    "email=input()\n",
    "print(checkmail(email))\n"
   ]
  }
 ],
 "metadata": {
  "kernelspec": {
   "display_name": "Python 3",
   "language": "python",
   "name": "python3"
  },
  "language_info": {
   "codemirror_mode": {
    "name": "ipython",
    "version": 3
   },
   "file_extension": ".py",
   "mimetype": "text/x-python",
   "name": "python",
   "nbconvert_exporter": "python",
   "pygments_lexer": "ipython3",
   "version": "3.6.5"
  }
 },
 "nbformat": 4,
 "nbformat_minor": 2
}
